{
 "cells": [
  {
   "cell_type": "code",
   "execution_count": 1,
   "metadata": {},
   "outputs": [
    {
     "name": "stdout",
     "output_type": "stream",
     "text": [
      "['Trung', 'Kiên', 'đẹp', 'zai', 'như', 'Đỗ', 'Phú', 'Quí']\n"
     ]
    }
   ],
   "source": [
    "# n = int(input('Enter a number: '))\n",
    "\n",
    "a = \"Trung Kiên đẹp zai như Đỗ Phú Quí\"\n",
    "a = a.split()\n",
    "print(a)"
   ]
  },
  {
   "cell_type": "code",
   "execution_count": 3,
   "metadata": {},
   "outputs": [
    {
     "name": "stdout",
     "output_type": "stream",
     "text": [
      "[1, 2, 3, 4, 5]\n",
      "1\n",
      "5\n"
     ]
    }
   ],
   "source": [
    "a = [1, 2, 3, 4, 5]\n",
    "print(a)\n",
    "print(min(a))\n",
    "print(max(a))"
   ]
  },
  {
   "cell_type": "code",
   "execution_count": 6,
   "metadata": {},
   "outputs": [
    {
     "name": "stdout",
     "output_type": "stream",
     "text": [
      "Nam Phong đẹp zai như Đỗ Phú Quí\n",
      "Nam Phong đã được đi concert của J97\n",
      "Nam Phong đẹp zai như Đỗ Phú Quí\n",
      "Nam Phong đã được đi concert của J97\n"
     ]
    }
   ],
   "source": [
    "def flexing():\n",
    "    print(\"Nam Phong đẹp zai như Đỗ Phú Quí\")\n",
    "    print(\"Nam Phong đã được đi concert của J97\")\n",
    "    \n",
    "flexing()\n",
    "flexing()"
   ]
  },
  {
   "cell_type": "code",
   "execution_count": null,
   "metadata": {},
   "outputs": [],
   "source": [
    "'''\n",
    "Yêu cầu người dùng nhập điểm thi của 3 môn: Toán, Lý, Hóa\n",
    "Tính điểm trung bình của 3 môn\n",
    "In ra điểm trung bình\n",
    "Nếu điểm trung bình >= 8, in ra \"Giỏi\"\n",
    "Nếu điểm trung bình >= 6 và < 8, in ra \"Khá\"\n",
    "Nếu điểm trung bình < 6, in ra \"Trung bình\"\n",
    "'''\n",
    "\n"
   ]
  },
  {
   "cell_type": "code",
   "execution_count": 8,
   "metadata": {},
   "outputs": [
    {
     "name": "stdout",
     "output_type": "stream",
     "text": [
      "[9, 9, 7]\n",
      "[9, 9, 7, 10]\n",
      "[9, 7, 10]\n"
     ]
    }
   ],
   "source": [
    "diem = [9,9,7]\n",
    "print(diem)\n",
    "diem.append(10)\n",
    "print(diem)\n",
    "diem.remove(9)\n",
    "print(diem)"
   ]
  },
  {
   "cell_type": "code",
   "execution_count": 12,
   "metadata": {},
   "outputs": [
    {
     "name": "stdout",
     "output_type": "stream",
     "text": [
      "Khoi Nguyen dep trai\n",
      "KHOI NGUYEN DEP TRAI\n",
      "khoi nguyen dep trai\n",
      "Khoi nguyen dep trai\n"
     ]
    }
   ],
   "source": [
    "a = 'Khoi Nguyen dep trai'\n",
    "print(a)\n",
    "print(a.upper())\n",
    "print(a.lower())\n",
    "print(a.capitalize())"
   ]
  },
  {
   "cell_type": "code",
   "execution_count": null,
   "metadata": {},
   "outputs": [],
   "source": [
    "'''\n",
    "1. Viết hàm nhận vào 1 danh sách các số nguyên\n",
    "    - Dùng vòng lặp for, tính tổng các số \n",
    "    - Return tổng các số\n",
    "    \n",
    "2. Viết hàm nhận vào 1 danh sách các số nguyên (có thể trùng nhau)\n",
    "    - Trả về 1 danh sách không có phần tử trùng lặp\n",
    "'''"
   ]
  },
  {
   "cell_type": "code",
   "execution_count": null,
   "metadata": {},
   "outputs": [],
   "source": [
    "def tinh_tong(danh_sach):\n",
    "    tong = 0\n",
    "    for i in danh_sach:\n",
    "        tong += i\n",
    "    return tong"
   ]
  },
  {
   "cell_type": "code",
   "execution_count": 15,
   "metadata": {},
   "outputs": [
    {
     "name": "stdout",
     "output_type": "stream",
     "text": [
      "[1, 3, 4, 3, 5, 6, 3, 2, 2, 2, 3, 3, 3, 3, 9, 9, 9, 10, 12]\n",
      "[1, 3, 4, 5, 6, 2, 9, 10, 12]\n"
     ]
    }
   ],
   "source": [
    "def remove_duplicate(list_number):\n",
    "    result = []\n",
    "    for i in list_number:\n",
    "        if i not in result:\n",
    "            result.append(i)\n",
    "    return result\n",
    "\n",
    "a = [1,3,4,3,5,6,3,2,2,2,3,3,3,3,9,9,9,10,12]\n",
    "print(a)\n",
    "a = remove_duplicate(a)\n",
    "print(a)"
   ]
  }
 ],
 "metadata": {
  "kernelspec": {
   "display_name": "Python 3",
   "language": "python",
   "name": "python3"
  },
  "language_info": {
   "codemirror_mode": {
    "name": "ipython",
    "version": 3
   },
   "file_extension": ".py",
   "mimetype": "text/x-python",
   "name": "python",
   "nbconvert_exporter": "python",
   "pygments_lexer": "ipython3",
   "version": "3.12.4"
  }
 },
 "nbformat": 4,
 "nbformat_minor": 2
}
